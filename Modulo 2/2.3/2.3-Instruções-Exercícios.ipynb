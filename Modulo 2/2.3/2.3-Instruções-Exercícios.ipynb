{
  "cells": [
    {
      "cell_type": "markdown",
      "metadata": {
        "id": "1pCTdOHonv5f"
      },
      "source": [
        "# Módulo 2\n",
        "\n",
        "## 2.3 Instruções e Expressões\n",
        "\n",
        "### Q1\n",
        "\n",
        "Faça um programa que armazene o valor de 20 reais de salário por hora de um trabalhador, e o número de 40 horas trabalhadas na semana. Com essas informações, calcule e imprima:\n",
        "- Salário semanal bruto\n",
        "- Valor descontado por semana INSS (10% do bruto)\n",
        "- Valor descontado por semana pelo sindicato (5% do bruto)\n",
        "- Salário semanal líquido (Bruto - Descontos)"
      ]
    },
    {
      "cell_type": "code",
      "execution_count": null,
      "metadata": {
        "id": "hVbX0I97nj6M"
      },
      "outputs": [],
      "source": [
        "salario_hora = 20\n",
        "salario_semana = 40\n",
        "INSS = 0.1\n",
        "sindicato = 0.05\n",
        "\n",
        "salario_bruto = salario_hora * salario_semana\n",
        "\n",
        "desconto_INSS = salario_bruto * INSS\n",
        "desconto_sindicato = salario_bruto * INSS\n",
        "\n",
        "salario_liquido = salario_bruto - desconto_INSS - desconto_sindicato\n",
        "\n",
        "print(\"salarial semanal:\" \"R$\",salario_bruto)\n",
        "print(\"Desconto do INSS, por semana: \" \"R$\",desconto_INSS)\n",
        "print(\"valor descontado pelo sindicato: \" \"R$\",desconto_sindicato)\n",
        "print(\"salario semanal liquido: \" \"R$\",salario_liquido)\n"
      ]
    },
    {
      "cell_type": "markdown",
      "metadata": {
        "id": "pIxKX9J2oGZ1"
      },
      "source": [
        "### Q2\n",
        "\n",
        "Altere o programa anterior para a partir dos valores de horas trabalhadas por semana e salário por hora, calcular **em somente duas instruções**:\n",
        "- Salário semanal bruto\n",
        "- Salário semanal líquido com todos os descontos. Para a segunda instrução, realize todos os cálculos aritméticos em uma expressão composta.\n"
      ]
    },
    {
      "cell_type": "code",
      "execution_count": null,
      "metadata": {
        "id": "pAHw9Xf9oGoi"
      },
      "outputs": [],
      "source": [
        "salario_hora = 20\n",
        "salario_semana = 40\n",
        "\n",
        "salario_bruto, salario_liquido = salario_hora * salario_semana, salario_hora\n",
        "\n",
        "print(\"salario da semana:\"\"R$\", salario_bruto)\n",
        "print(\"slario semana liquido\"\"R$\", salario_liquido)"
      ]
    },
    {
      "cell_type": "markdown",
      "metadata": {
        "id": "m8tlHRuWpBOB"
      },
      "source": [
        "### Q3\n",
        "\n",
        "Você está desenvolvendo um software de conversão de moeda e precisa calcular o valor equivalente em yuan chinês a partir de uma quantia em real. A taxa de câmbio é de 0.69 BRL (real) para 1 CNY (yuan). Escreva um programa que define em uma variável uma quantia em reais (BRL) e calcula o valor equivalente em yuan (CNY). Imprima o resultado."
      ]
    },
    {
      "cell_type": "code",
      "execution_count": null,
      "metadata": {
        "id": "2bPw7uF6oeL9"
      },
      "outputs": [],
      "source": [
        "quantidade_Real = 100\n",
        "taxa = 0.69\n",
        "quantidade_CNY = quantidade_Real * taxa \n",
        "\n",
        "print(\"valor pos translação:\"\"R$\", quantidade_Real, \"Reais em Yuan\", quantidade_CNY,\"CNY\" )"
      ]
    },
    {
      "cell_type": "markdown",
      "metadata": {
        "id": "-Na3ltDCp74A"
      },
      "source": [
        "### Q4\n",
        "\n",
        "Você é um treinador de corrida e deseja calcular a velocidade média que um atleta precisa manter para completar a Maratona Internacional de São Silvestre, que tem uma distância total de 42.195 km. A fórmula para calcular a velocidade média ($v\\_media$) é dada por $v\\_media = \\frac{distancia}{tempo}$ . Escreva um programa em Python para calcular a velocidade média necessária para completar a maratona em 3 horas.\n",
        "\n",
        "**Calcule e imprima o resultado em metros/segundo**, ou seja, converta a distância de quilômetros para metros ($metro = \\frac{km}{1000}$) e a velocidade de horas para segundos $(segundo = \\frac{hora}{3600})$."
      ]
    },
    {
      "cell_type": "code",
      "execution_count": null,
      "metadata": {
        "id": "Bn6l8kcSrE4L"
      },
      "outputs": [],
      "source": [
        "distancia_corrida = 42.192\n",
        "distancia_em_metros = 42.192 / 1000\n",
        "tempo_em_seg = 3 / 3600\n",
        "\n",
        "print(\"a velocidade media e de:\", distancia_em_metros / tempo_em_seg)\n"
      ]
    }
  ],
  "metadata": {
    "colab": {
      "provenance": []
    },
    "kernelspec": {
      "display_name": "Python 3",
      "name": "python3"
    },
    "language_info": {
      "name": "python"
    }
  },
  "nbformat": 4,
  "nbformat_minor": 0
}
